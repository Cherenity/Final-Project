{
 "cells": [
  {
   "cell_type": "markdown",
   "id": "c4bb9053-6176-4023-b2a7-ca32fccba349",
   "metadata": {},
   "source": [
    "# Machine Learning"
   ]
  },
  {
   "cell_type": "markdown",
   "id": "5135a6be-3658-4737-beb3-6924d0a1d826",
   "metadata": {},
   "source": [
    "### Imports"
   ]
  },
  {
   "cell_type": "code",
   "execution_count": 4,
   "id": "7820bf3a",
   "metadata": {},
   "outputs": [],
   "source": [
    "import pandas as pd\n",
    "import numpy as np\n",
    "import requests\n",
    "import json\n",
    "import random\n",
    "\n",
    "from sklearn.preprocessing import LabelEncoder\n",
    "from sklearn.model_selection import train_test_split\n",
    "from sklearn.metrics import accuracy_score\n",
    "\n",
    "from sklearn.neighbors import KNeighborsClassifier\n",
    "from sklearn.naive_bayes import GaussianNB\n",
    "from sklearn.tree import DecisionTreeClassifier\n",
    "from sklearn.ensemble import RandomForestClassifier\n",
    "from sklearn.linear_model import LogisticRegression\n",
    "\n",
    "from datetime import datetime, timedelta\n",
    "from warnings import simplefilter"
   ]
  },
  {
   "cell_type": "markdown",
   "id": "edad4510-4bc8-4ce3-b7ef-118f7f1958f0",
   "metadata": {},
   "source": [
    "### 1. Reading data from CSV to DataFrame"
   ]
  },
  {
   "cell_type": "code",
   "execution_count": 5,
   "id": "7abd886f",
   "metadata": {
    "scrolled": true
   },
   "outputs": [
    {
     "data": {
      "text/html": [
       "<div>\n",
       "<style scoped>\n",
       "    .dataframe tbody tr th:only-of-type {\n",
       "        vertical-align: middle;\n",
       "    }\n",
       "\n",
       "    .dataframe tbody tr th {\n",
       "        vertical-align: top;\n",
       "    }\n",
       "\n",
       "    .dataframe thead th {\n",
       "        text-align: right;\n",
       "    }\n",
       "</style>\n",
       "<table border=\"1\" class=\"dataframe\">\n",
       "  <thead>\n",
       "    <tr style=\"text-align: right;\">\n",
       "      <th></th>\n",
       "      <th>CrimeID</th>\n",
       "      <th>IncidentCategory</th>\n",
       "      <th>Datetime</th>\n",
       "      <th>Hour</th>\n",
       "      <th>Temperature</th>\n",
       "      <th>Humidity</th>\n",
       "      <th>Rainfall</th>\n",
       "      <th>Clouds</th>\n",
       "      <th>Wind</th>\n",
       "    </tr>\n",
       "  </thead>\n",
       "  <tbody>\n",
       "    <tr>\n",
       "      <th>0</th>\n",
       "      <td>16843</td>\n",
       "      <td>Larceny Theft</td>\n",
       "      <td>2022-09-25 01:00:00</td>\n",
       "      <td>1</td>\n",
       "      <td>15.5</td>\n",
       "      <td>97.0</td>\n",
       "      <td>0.0</td>\n",
       "      <td>0.0</td>\n",
       "      <td>2.2</td>\n",
       "    </tr>\n",
       "    <tr>\n",
       "      <th>1</th>\n",
       "      <td>16844</td>\n",
       "      <td>Motor Vehicle Theft</td>\n",
       "      <td>2022-09-25 01:00:00</td>\n",
       "      <td>1</td>\n",
       "      <td>15.5</td>\n",
       "      <td>97.0</td>\n",
       "      <td>0.0</td>\n",
       "      <td>0.0</td>\n",
       "      <td>2.2</td>\n",
       "    </tr>\n",
       "    <tr>\n",
       "      <th>2</th>\n",
       "      <td>16845</td>\n",
       "      <td>Fraud</td>\n",
       "      <td>2022-09-25 01:00:00</td>\n",
       "      <td>1</td>\n",
       "      <td>15.5</td>\n",
       "      <td>97.0</td>\n",
       "      <td>0.0</td>\n",
       "      <td>0.0</td>\n",
       "      <td>2.2</td>\n",
       "    </tr>\n",
       "    <tr>\n",
       "      <th>3</th>\n",
       "      <td>16846</td>\n",
       "      <td>Larceny Theft</td>\n",
       "      <td>2022-09-25 01:00:00</td>\n",
       "      <td>1</td>\n",
       "      <td>15.5</td>\n",
       "      <td>97.0</td>\n",
       "      <td>0.0</td>\n",
       "      <td>0.0</td>\n",
       "      <td>2.2</td>\n",
       "    </tr>\n",
       "    <tr>\n",
       "      <th>4</th>\n",
       "      <td>16847</td>\n",
       "      <td>Malicious Mischief</td>\n",
       "      <td>2022-09-25 01:19:00</td>\n",
       "      <td>1</td>\n",
       "      <td>15.5</td>\n",
       "      <td>97.0</td>\n",
       "      <td>0.0</td>\n",
       "      <td>0.0</td>\n",
       "      <td>2.2</td>\n",
       "    </tr>\n",
       "  </tbody>\n",
       "</table>\n",
       "</div>"
      ],
      "text/plain": [
       "   CrimeID     IncidentCategory             Datetime  Hour  Temperature  \\\n",
       "0    16843        Larceny Theft  2022-09-25 01:00:00     1         15.5   \n",
       "1    16844  Motor Vehicle Theft  2022-09-25 01:00:00     1         15.5   \n",
       "2    16845                Fraud  2022-09-25 01:00:00     1         15.5   \n",
       "3    16846        Larceny Theft  2022-09-25 01:00:00     1         15.5   \n",
       "4    16847   Malicious Mischief  2022-09-25 01:19:00     1         15.5   \n",
       "\n",
       "   Humidity  Rainfall  Clouds  Wind  \n",
       "0      97.0       0.0     0.0   2.2  \n",
       "1      97.0       0.0     0.0   2.2  \n",
       "2      97.0       0.0     0.0   2.2  \n",
       "3      97.0       0.0     0.0   2.2  \n",
       "4      97.0       0.0     0.0   2.2  "
      ]
     },
     "execution_count": 5,
     "metadata": {},
     "output_type": "execute_result"
    }
   ],
   "source": [
    "simplefilter(action='ignore', category=FutureWarning)\n",
    "\n",
    "df = pd.read_csv('FactCrimes.csv')\n",
    "df = df.drop('Neighborhood', axis=1)\n",
    "df = df.drop('DateKey', axis=1)\n",
    "df.head()"
   ]
  },
  {
   "cell_type": "markdown",
   "id": "c9e0568d-1778-4d62-af84-199a40f037f3",
   "metadata": {},
   "source": [
    "### 2. Using LabelEncoder for encoding incidentCategory values to numerical "
   ]
  },
  {
   "cell_type": "code",
   "execution_count": 6,
   "id": "baa3aaae",
   "metadata": {
    "scrolled": true
   },
   "outputs": [
    {
     "data": {
      "text/html": [
       "<div>\n",
       "<style scoped>\n",
       "    .dataframe tbody tr th:only-of-type {\n",
       "        vertical-align: middle;\n",
       "    }\n",
       "\n",
       "    .dataframe tbody tr th {\n",
       "        vertical-align: top;\n",
       "    }\n",
       "\n",
       "    .dataframe thead th {\n",
       "        text-align: right;\n",
       "    }\n",
       "</style>\n",
       "<table border=\"1\" class=\"dataframe\">\n",
       "  <thead>\n",
       "    <tr style=\"text-align: right;\">\n",
       "      <th></th>\n",
       "      <th>CrimeID</th>\n",
       "      <th>IncidentCategory</th>\n",
       "      <th>Datetime</th>\n",
       "      <th>Hour</th>\n",
       "      <th>Temperature</th>\n",
       "      <th>Humidity</th>\n",
       "      <th>Rainfall</th>\n",
       "      <th>Clouds</th>\n",
       "      <th>Wind</th>\n",
       "    </tr>\n",
       "  </thead>\n",
       "  <tbody>\n",
       "    <tr>\n",
       "      <th>0</th>\n",
       "      <td>16843</td>\n",
       "      <td>37</td>\n",
       "      <td>2022-09-25 01:00:00</td>\n",
       "      <td>1</td>\n",
       "      <td>15.5</td>\n",
       "      <td>97.0</td>\n",
       "      <td>0.0</td>\n",
       "      <td>0.0</td>\n",
       "      <td>2.2</td>\n",
       "    </tr>\n",
       "    <tr>\n",
       "      <th>1</th>\n",
       "      <td>16844</td>\n",
       "      <td>42</td>\n",
       "      <td>2022-09-25 01:00:00</td>\n",
       "      <td>1</td>\n",
       "      <td>15.5</td>\n",
       "      <td>97.0</td>\n",
       "      <td>0.0</td>\n",
       "      <td>0.0</td>\n",
       "      <td>2.2</td>\n",
       "    </tr>\n",
       "    <tr>\n",
       "      <th>2</th>\n",
       "      <td>16845</td>\n",
       "      <td>28</td>\n",
       "      <td>2022-09-25 01:00:00</td>\n",
       "      <td>1</td>\n",
       "      <td>15.5</td>\n",
       "      <td>97.0</td>\n",
       "      <td>0.0</td>\n",
       "      <td>0.0</td>\n",
       "      <td>2.2</td>\n",
       "    </tr>\n",
       "    <tr>\n",
       "      <th>3</th>\n",
       "      <td>16846</td>\n",
       "      <td>37</td>\n",
       "      <td>2022-09-25 01:00:00</td>\n",
       "      <td>1</td>\n",
       "      <td>15.5</td>\n",
       "      <td>97.0</td>\n",
       "      <td>0.0</td>\n",
       "      <td>0.0</td>\n",
       "      <td>2.2</td>\n",
       "    </tr>\n",
       "    <tr>\n",
       "      <th>4</th>\n",
       "      <td>16847</td>\n",
       "      <td>41</td>\n",
       "      <td>2022-09-25 01:19:00</td>\n",
       "      <td>1</td>\n",
       "      <td>15.5</td>\n",
       "      <td>97.0</td>\n",
       "      <td>0.0</td>\n",
       "      <td>0.0</td>\n",
       "      <td>2.2</td>\n",
       "    </tr>\n",
       "  </tbody>\n",
       "</table>\n",
       "</div>"
      ],
      "text/plain": [
       "   CrimeID  IncidentCategory             Datetime  Hour  Temperature  \\\n",
       "0    16843                37  2022-09-25 01:00:00     1         15.5   \n",
       "1    16844                42  2022-09-25 01:00:00     1         15.5   \n",
       "2    16845                28  2022-09-25 01:00:00     1         15.5   \n",
       "3    16846                37  2022-09-25 01:00:00     1         15.5   \n",
       "4    16847                41  2022-09-25 01:19:00     1         15.5   \n",
       "\n",
       "   Humidity  Rainfall  Clouds  Wind  \n",
       "0      97.0       0.0     0.0   2.2  \n",
       "1      97.0       0.0     0.0   2.2  \n",
       "2      97.0       0.0     0.0   2.2  \n",
       "3      97.0       0.0     0.0   2.2  \n",
       "4      97.0       0.0     0.0   2.2  "
      ]
     },
     "execution_count": 6,
     "metadata": {},
     "output_type": "execute_result"
    }
   ],
   "source": [
    "le = LabelEncoder()\n",
    "le.fit(df['IncidentCategory'])\n",
    "df['IncidentCategory'] = le.transform(df['IncidentCategory'])\n",
    "df.head()"
   ]
  },
  {
   "cell_type": "markdown",
   "id": "f4fe6757",
   "metadata": {},
   "source": [
    "### 3. Define X and y and train/test-split"
   ]
  },
  {
   "cell_type": "code",
   "execution_count": 7,
   "id": "9f4e9567",
   "metadata": {},
   "outputs": [],
   "source": [
    "y = df['IncidentCategory'].values\n",
    "X = df[['Temperature','Humidity','Clouds','Wind']].values\n",
    "X_train,X_test,y_train,y_test = train_test_split(X,y,test_size=.3)"
   ]
  },
  {
   "cell_type": "markdown",
   "id": "9dc6596f",
   "metadata": {},
   "source": [
    "### 4. Create all the models and append them to models list"
   ]
  },
  {
   "cell_type": "code",
   "execution_count": 8,
   "id": "5469c361",
   "metadata": {},
   "outputs": [],
   "source": [
    "reg_strength = 0.02\n",
    "models = []\n",
    "\n",
    "models.append(KNeighborsClassifier(n_neighbors = 72))   # default = 5\n",
    "models.append(DecisionTreeClassifier(max_depth=1))\n",
    "models.append(GaussianNB())\n",
    "models.append(RandomForestClassifier(max_depth=1))\n",
    "models.append(LogisticRegression(C=1/reg_strength, solver=\"liblinear\"))\n",
    "\n",
    "random.shuffle(models)"
   ]
  },
  {
   "cell_type": "markdown",
   "id": "7264708e",
   "metadata": {},
   "source": [
    "### 5. Training and reviewing all models in for loop"
   ]
  },
  {
   "cell_type": "code",
   "execution_count": 9,
   "id": "33f0c1cf",
   "metadata": {
    "scrolled": true
   },
   "outputs": [
    {
     "name": "stdout",
     "output_type": "stream",
     "text": [
      "Training model LogisticRegression(C=50.0, solver='liblinear')\n",
      "Model accuracy: 0.31687898089171973 \n",
      "\n",
      "Training model KNeighborsClassifier(n_neighbors=72)\n",
      "Model accuracy: 0.3131255686988171 \n",
      "\n",
      "Training model RandomForestClassifier(max_depth=1)\n",
      "Model accuracy: 0.31687898089171973 \n",
      "\n",
      "Training model DecisionTreeClassifier(max_depth=1)\n",
      "Model accuracy: 0.31687898089171973 \n",
      "\n",
      "Training model GaussianNB()\n",
      "Model accuracy: 0.31540036396724297 \n",
      "\n",
      "{'model': LogisticRegression(C=50.0, solver='liblinear'), 'score': 0.31687898089171973}\n"
     ]
    }
   ],
   "source": [
    "best_model = {'model': None, 'score': 0}\n",
    "\n",
    "for model in models:\n",
    "    print(f'Training model {model}')\n",
    "    model.fit(X_train, y_train)\n",
    "    predictions = model.predict(X_test)\n",
    "    acc = accuracy_score(y_test,predictions)\n",
    "    if acc > best_model['score']:\n",
    "        best_model.update({'model': model})\n",
    "        best_model.update({'score': acc})\n",
    "    print(f'Model accuracy: {acc} \\n')\n",
    "    \n",
    "print(best_model)"
   ]
  },
  {
   "cell_type": "markdown",
   "id": "07f4c91c-177f-4d4e-af57-123ff7b74f54",
   "metadata": {},
   "source": [
    "### 6. Bit of time-related calculations"
   ]
  },
  {
   "cell_type": "code",
   "execution_count": 11,
   "id": "a9272504",
   "metadata": {},
   "outputs": [],
   "source": [
    "aikaero = timedelta(hours=9)\n",
    "now_sf = datetime.now() - aikaero\n",
    "predict_hour = now_sf + timedelta(hours=1)\n",
    "predict_hour = predict_hour.strftime(\"%H\")"
   ]
  },
  {
   "cell_type": "markdown",
   "id": "087dc886-b885-47ec-8c9d-8d352ef6b7d3",
   "metadata": {},
   "source": [
    "### 7. Calling API for weather forecast and converting received JSON to DataFrame"
   ]
  },
  {
   "cell_type": "code",
   "execution_count": 12,
   "id": "e5089f6f-ad07-4464-a78e-769d9f52243e",
   "metadata": {},
   "outputs": [
    {
     "data": {
      "text/html": [
       "<div>\n",
       "<style scoped>\n",
       "    .dataframe tbody tr th:only-of-type {\n",
       "        vertical-align: middle;\n",
       "    }\n",
       "\n",
       "    .dataframe tbody tr th {\n",
       "        vertical-align: top;\n",
       "    }\n",
       "\n",
       "    .dataframe thead th {\n",
       "        text-align: right;\n",
       "    }\n",
       "</style>\n",
       "<table border=\"1\" class=\"dataframe\">\n",
       "  <thead>\n",
       "    <tr style=\"text-align: right;\">\n",
       "      <th></th>\n",
       "      <th>temperature</th>\n",
       "      <th>humidity</th>\n",
       "      <th>cloud</th>\n",
       "      <th>wind</th>\n",
       "    </tr>\n",
       "  </thead>\n",
       "  <tbody>\n",
       "    <tr>\n",
       "      <th>0</th>\n",
       "      <td>6.8</td>\n",
       "      <td>78</td>\n",
       "      <td>0</td>\n",
       "      <td>1.98</td>\n",
       "    </tr>\n",
       "    <tr>\n",
       "      <th>1</th>\n",
       "      <td>6.6</td>\n",
       "      <td>78</td>\n",
       "      <td>0</td>\n",
       "      <td>2.10</td>\n",
       "    </tr>\n",
       "    <tr>\n",
       "      <th>2</th>\n",
       "      <td>6.4</td>\n",
       "      <td>85</td>\n",
       "      <td>1</td>\n",
       "      <td>1.87</td>\n",
       "    </tr>\n",
       "    <tr>\n",
       "      <th>3</th>\n",
       "      <td>6.5</td>\n",
       "      <td>83</td>\n",
       "      <td>0</td>\n",
       "      <td>2.02</td>\n",
       "    </tr>\n",
       "    <tr>\n",
       "      <th>4</th>\n",
       "      <td>5.9</td>\n",
       "      <td>82</td>\n",
       "      <td>1</td>\n",
       "      <td>1.58</td>\n",
       "    </tr>\n",
       "  </tbody>\n",
       "</table>\n",
       "</div>"
      ],
      "text/plain": [
       "   temperature  humidity  cloud  wind\n",
       "0          6.8        78      0  1.98\n",
       "1          6.6        78      0  2.10\n",
       "2          6.4        85      1  1.87\n",
       "3          6.5        83      0  2.02\n",
       "4          5.9        82      1  1.58"
      ]
     },
     "execution_count": 12,
     "metadata": {},
     "output_type": "execute_result"
    }
   ],
   "source": [
    "URL = 'https://api.open-meteo.com/v1/forecast?latitude=37.77&longitude=-122.42&hourly=temperature_2m,relativehumidity_2m,cloudcover,windspeed_10m&windspeed_unit=ms&forecast_days=1&timezone=America%2FLos_Angeles'\n",
    "\n",
    "response = requests.get(URL)\n",
    "json_data = response.json()\n",
    "\n",
    "forecast = pd.DataFrame({\n",
    "    'temperature': json_data['hourly']['temperature_2m'],\n",
    "    'humidity': json_data['hourly']['relativehumidity_2m'],\n",
    "    'cloud': json_data['hourly']['cloudcover'],\n",
    "    'wind': json_data['hourly']['windspeed_10m']\n",
    "})\n",
    "forecast.head()"
   ]
  },
  {
   "cell_type": "markdown",
   "id": "6f7d3f75-40e8-44fd-9524-dbe2d0396abd",
   "metadata": {},
   "source": [
    "### 8. Predicting upcoming CrimeWeather®"
   ]
  },
  {
   "cell_type": "code",
   "execution_count": 13,
   "id": "83edfe00-1fe1-4596-a816-256b3c660295",
   "metadata": {},
   "outputs": [
    {
     "name": "stdout",
     "output_type": "stream",
     "text": [
      "Todennäköisin rikos: Larceny Theft\n"
     ]
    }
   ],
   "source": [
    "t = forecast.loc[int(predict_hour)]\n",
    "f = [t.temperature, t.humidity, t.cloud, t.wind]\n",
    "f = np.array(f).reshape(1,-1)\n",
    "\n",
    "model = best_model['model']\n",
    "pred = model.predict(f)[0]\n",
    "prediction = le.inverse_transform([pred])\n",
    "\n",
    "print(f'Todennäköisin rikos: {prediction[0]}')"
   ]
  },
  {
   "cell_type": "markdown",
   "id": "141b127b-0959-487c-b59d-6d998af2cf2b",
   "metadata": {},
   "source": [
    "### 9. Resolutions"
   ]
  }
 ],
 "metadata": {
  "kernelspec": {
   "display_name": "Python 3 (ipykernel)",
   "language": "python",
   "name": "python3"
  },
  "language_info": {
   "codemirror_mode": {
    "name": "ipython",
    "version": 3
   },
   "file_extension": ".py",
   "mimetype": "text/x-python",
   "name": "python",
   "nbconvert_exporter": "python",
   "pygments_lexer": "ipython3",
   "version": "3.9.13"
  }
 },
 "nbformat": 4,
 "nbformat_minor": 5
}
