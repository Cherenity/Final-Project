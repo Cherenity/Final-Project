{
 "cells": [
  {
   "cell_type": "code",
   "execution_count": 62,
   "id": "3b78741b-8179-4fde-b0d1-3c16101a69f3",
   "metadata": {},
   "outputs": [],
   "source": [
    "import pandas as pd\n",
    "import datetime\n",
    "\n",
    "START = '1/1/2019'\n",
    "END = '5/31/2023'"
   ]
  },
  {
   "cell_type": "code",
   "execution_count": 63,
   "id": "715c8efe-85f5-4d9a-b771-84b9b75a522e",
   "metadata": {},
   "outputs": [
    {
     "data": {
      "text/html": [
       "<div>\n",
       "<style scoped>\n",
       "    .dataframe tbody tr th:only-of-type {\n",
       "        vertical-align: middle;\n",
       "    }\n",
       "\n",
       "    .dataframe tbody tr th {\n",
       "        vertical-align: top;\n",
       "    }\n",
       "\n",
       "    .dataframe thead th {\n",
       "        text-align: right;\n",
       "    }\n",
       "</style>\n",
       "<table border=\"1\" class=\"dataframe\">\n",
       "  <thead>\n",
       "    <tr style=\"text-align: right;\">\n",
       "      <th></th>\n",
       "      <th>pvm</th>\n",
       "      <th>vuosi</th>\n",
       "      <th>kvartaali</th>\n",
       "      <th>kuukausi</th>\n",
       "      <th>paiva</th>\n",
       "      <th>date</th>\n",
       "      <th>viikonpaiva</th>\n",
       "    </tr>\n",
       "  </thead>\n",
       "  <tbody>\n",
       "    <tr>\n",
       "      <th>0</th>\n",
       "      <td>20190101</td>\n",
       "      <td>2019</td>\n",
       "      <td>1</td>\n",
       "      <td>01</td>\n",
       "      <td>01</td>\n",
       "      <td>2019-01-01</td>\n",
       "      <td>1</td>\n",
       "    </tr>\n",
       "  </tbody>\n",
       "</table>\n",
       "</div>"
      ],
      "text/plain": [
       "        pvm  vuosi  kvartaali kuukausi paiva        date  viikonpaiva\n",
       "0  20190101   2019          1       01    01  2019-01-01            1"
      ]
     },
     "execution_count": 63,
     "metadata": {},
     "output_type": "execute_result"
    }
   ],
   "source": [
    "df= pd.DataFrame(pd.date_range(START,END,freq=\"D\"),columns=['datetime'])\n",
    "\n",
    "df['paiva'] = df[\"datetime\"].dt.day\n",
    "df['paiva'] = df['paiva'].apply(lambda x: '{0:0>2}'.format(x))\n",
    "\n",
    "df['kuukausi'] = df[\"datetime\"].dt.month\n",
    "df['kuukausi'] = df['kuukausi'].apply(lambda x: '{0:0>2}'.format(x))\n",
    "\n",
    "df['kvartaali'] =df[\"datetime\"].dt.quarter\n",
    "\n",
    "df['vuosi'] = df[\"datetime\"].dt.year\n",
    "\n",
    "df['date'] = df['datetime'].dt.date\n",
    "\n",
    "df['viikonpaiva'] = df['datetime'].dt.weekday\n",
    "\n",
    "\n",
    "#df['tunti'] = df[\"datetime\"].dt.hour\n",
    "#df['tunti'] = df['tunti'].apply(lambda x: '{0:0>2}'.format(x))\n",
    "\n",
    "df['pvm'] = df['vuosi'].astype(str) + df['kuukausi'].astype(str) + df['paiva'].astype(str) \n",
    "df = df.astype({'pvm':'int64'})\n",
    "\n",
    "df = df.reindex(columns=['pvm','vuosi','kvartaali','kuukausi','paiva', 'date', 'viikonpaiva'])\n",
    "\n",
    "\n",
    "# Adds seperate date_id column\n",
    "# df = df.rename_axis('date_id').reset_index()\n",
    "\n",
    "df.head(1)"
   ]
  },
  {
   "cell_type": "code",
   "execution_count": 64,
   "id": "bff853b1-7be6-4c8e-be26-02faef51178f",
   "metadata": {},
   "outputs": [
    {
     "data": {
      "text/html": [
       "<div>\n",
       "<style scoped>\n",
       "    .dataframe tbody tr th:only-of-type {\n",
       "        vertical-align: middle;\n",
       "    }\n",
       "\n",
       "    .dataframe tbody tr th {\n",
       "        vertical-align: top;\n",
       "    }\n",
       "\n",
       "    .dataframe thead th {\n",
       "        text-align: right;\n",
       "    }\n",
       "</style>\n",
       "<table border=\"1\" class=\"dataframe\">\n",
       "  <thead>\n",
       "    <tr style=\"text-align: right;\">\n",
       "      <th></th>\n",
       "      <th>pvm</th>\n",
       "      <th>vuosi</th>\n",
       "      <th>kvartaali</th>\n",
       "      <th>kuukausi</th>\n",
       "      <th>paiva</th>\n",
       "      <th>date</th>\n",
       "      <th>viikonpaiva</th>\n",
       "    </tr>\n",
       "  </thead>\n",
       "  <tbody>\n",
       "    <tr>\n",
       "      <th>0</th>\n",
       "      <td>20190101</td>\n",
       "      <td>2019</td>\n",
       "      <td>1</td>\n",
       "      <td>01</td>\n",
       "      <td>01</td>\n",
       "      <td>2019-01-01</td>\n",
       "      <td>tiistai</td>\n",
       "    </tr>\n",
       "    <tr>\n",
       "      <th>1</th>\n",
       "      <td>20190102</td>\n",
       "      <td>2019</td>\n",
       "      <td>1</td>\n",
       "      <td>01</td>\n",
       "      <td>02</td>\n",
       "      <td>2019-01-02</td>\n",
       "      <td>keskiviikko</td>\n",
       "    </tr>\n",
       "    <tr>\n",
       "      <th>2</th>\n",
       "      <td>20190103</td>\n",
       "      <td>2019</td>\n",
       "      <td>1</td>\n",
       "      <td>01</td>\n",
       "      <td>03</td>\n",
       "      <td>2019-01-03</td>\n",
       "      <td>torstai</td>\n",
       "    </tr>\n",
       "    <tr>\n",
       "      <th>3</th>\n",
       "      <td>20190104</td>\n",
       "      <td>2019</td>\n",
       "      <td>1</td>\n",
       "      <td>01</td>\n",
       "      <td>04</td>\n",
       "      <td>2019-01-04</td>\n",
       "      <td>perjaintai</td>\n",
       "    </tr>\n",
       "    <tr>\n",
       "      <th>4</th>\n",
       "      <td>20190105</td>\n",
       "      <td>2019</td>\n",
       "      <td>1</td>\n",
       "      <td>01</td>\n",
       "      <td>05</td>\n",
       "      <td>2019-01-05</td>\n",
       "      <td>lauantai</td>\n",
       "    </tr>\n",
       "  </tbody>\n",
       "</table>\n",
       "</div>"
      ],
      "text/plain": [
       "        pvm  vuosi  kvartaali kuukausi paiva        date  viikonpaiva\n",
       "0  20190101   2019          1       01    01  2019-01-01      tiistai\n",
       "1  20190102   2019          1       01    02  2019-01-02  keskiviikko\n",
       "2  20190103   2019          1       01    03  2019-01-03      torstai\n",
       "3  20190104   2019          1       01    04  2019-01-04   perjaintai\n",
       "4  20190105   2019          1       01    05  2019-01-05     lauantai"
      ]
     },
     "execution_count": 64,
     "metadata": {},
     "output_type": "execute_result"
    }
   ],
   "source": [
    "def get_weekday(weekday):\n",
    "    if weekday == 0:\n",
    "        return 'maanantai'\n",
    "    elif weekday == 1:\n",
    "        return 'tiistai'\n",
    "    elif weekday == 2:\n",
    "        return 'keskiviikko'\n",
    "    elif weekday == 3:\n",
    "        return 'torstai'\n",
    "    elif weekday == 4:\n",
    "        return 'perjaintai'\n",
    "    elif weekday == 5:\n",
    "        return 'lauantai'\n",
    "    else:\n",
    "        return 'sunnuntai'\n",
    "    \n",
    "# Apply the function to the DataFrame\n",
    "df['viikonpaiva'] = df['viikonpaiva'].apply(get_weekday)\n",
    "\n",
    "df.head()"
   ]
  },
  {
   "cell_type": "code",
   "execution_count": 44,
   "id": "c292c65d-49a9-44b7-8ab3-ced0b43eeec4",
   "metadata": {},
   "outputs": [
    {
     "data": {
      "text/html": [
       "<div>\n",
       "<style scoped>\n",
       "    .dataframe tbody tr th:only-of-type {\n",
       "        vertical-align: middle;\n",
       "    }\n",
       "\n",
       "    .dataframe tbody tr th {\n",
       "        vertical-align: top;\n",
       "    }\n",
       "\n",
       "    .dataframe thead th {\n",
       "        text-align: right;\n",
       "    }\n",
       "</style>\n",
       "<table border=\"1\" class=\"dataframe\">\n",
       "  <thead>\n",
       "    <tr style=\"text-align: right;\">\n",
       "      <th></th>\n",
       "      <th>pvm</th>\n",
       "      <th>vuosi</th>\n",
       "      <th>kvartaali</th>\n",
       "      <th>kuukausi</th>\n",
       "      <th>paiva</th>\n",
       "      <th>date</th>\n",
       "      <th>viikonpaiva</th>\n",
       "    </tr>\n",
       "  </thead>\n",
       "  <tbody>\n",
       "    <tr>\n",
       "      <th>0</th>\n",
       "      <td>20190101</td>\n",
       "      <td>2019</td>\n",
       "      <td>talvi</td>\n",
       "      <td>01</td>\n",
       "      <td>01</td>\n",
       "      <td>2019-01-01</td>\n",
       "      <td>tiistai</td>\n",
       "    </tr>\n",
       "    <tr>\n",
       "      <th>1</th>\n",
       "      <td>20190102</td>\n",
       "      <td>2019</td>\n",
       "      <td>talvi</td>\n",
       "      <td>01</td>\n",
       "      <td>02</td>\n",
       "      <td>2019-01-02</td>\n",
       "      <td>keskiviikko</td>\n",
       "    </tr>\n",
       "    <tr>\n",
       "      <th>2</th>\n",
       "      <td>20190103</td>\n",
       "      <td>2019</td>\n",
       "      <td>talvi</td>\n",
       "      <td>01</td>\n",
       "      <td>03</td>\n",
       "      <td>2019-01-03</td>\n",
       "      <td>torstai</td>\n",
       "    </tr>\n",
       "    <tr>\n",
       "      <th>3</th>\n",
       "      <td>20190104</td>\n",
       "      <td>2019</td>\n",
       "      <td>talvi</td>\n",
       "      <td>01</td>\n",
       "      <td>04</td>\n",
       "      <td>2019-01-04</td>\n",
       "      <td>perjaintai</td>\n",
       "    </tr>\n",
       "    <tr>\n",
       "      <th>4</th>\n",
       "      <td>20190105</td>\n",
       "      <td>2019</td>\n",
       "      <td>talvi</td>\n",
       "      <td>01</td>\n",
       "      <td>05</td>\n",
       "      <td>2019-01-05</td>\n",
       "      <td>lauantai</td>\n",
       "    </tr>\n",
       "  </tbody>\n",
       "</table>\n",
       "</div>"
      ],
      "text/plain": [
       "        pvm  vuosi kvartaali kuukausi paiva        date  viikonpaiva\n",
       "0  20190101   2019     talvi       01    01  2019-01-01      tiistai\n",
       "1  20190102   2019     talvi       01    02  2019-01-02  keskiviikko\n",
       "2  20190103   2019     talvi       01    03  2019-01-03      torstai\n",
       "3  20190104   2019     talvi       01    04  2019-01-04   perjaintai\n",
       "4  20190105   2019     talvi       01    05  2019-01-05     lauantai"
      ]
     },
     "execution_count": 44,
     "metadata": {},
     "output_type": "execute_result"
    }
   ],
   "source": [
    "#def get_season(quarter):\n",
    "#    if quarter == 1:\n",
    "#        return 'talvi'\n",
    "#    elif quarter == 2:\n",
    "#        return 'kevat'\n",
    "#    elif quarter == 3:\n",
    "#        return 'kesa'\n",
    "#    else:\n",
    "#        return 'syksy'\n",
    "\n",
    "# Apply the function to the DataFrame\n",
    "# df['kvartaali'] = df['kvartaali'].apply(get_season)\n",
    "\n",
    "# df.head()"
   ]
  },
  {
   "cell_type": "markdown",
   "id": "248a232d-5112-4998-ba75-a2ad3788002e",
   "metadata": {},
   "source": [
    "#### Write DF to csv"
   ]
  },
  {
   "cell_type": "code",
   "execution_count": 66,
   "id": "16488a57-d358-40fa-863f-2a1a218fe8cc",
   "metadata": {},
   "outputs": [],
   "source": [
    "df.to_csv('DimDate.csv', sep=',')"
   ]
  },
  {
   "cell_type": "markdown",
   "id": "01e23223-e693-4924-923f-845aa5fb8836",
   "metadata": {},
   "source": [
    "#### Configurations"
   ]
  },
  {
   "cell_type": "code",
   "execution_count": 67,
   "id": "6a6e5ef0-06c4-4d60-9aea-74c2f3eca2c8",
   "metadata": {},
   "outputs": [],
   "source": [
    "import pyodbc\n",
    "import pandas as pd\n",
    "from warnings import simplefilter\n",
    "\n",
    "SERVER = 'localhost'\n",
    "DATABASE = 'FinalProject'\n",
    "USER = 'sa'\n",
    "PWD = 'Winter11'\n",
    "\n",
    "simplefilter(action='ignore', category=UserWarning)\n",
    "\n",
    "# Create a connection object\n",
    "cnxn = pyodbc.connect('DRIVER={ODBC Driver 17 for SQL Server};SERVER='+SERVER+';DATABASE='+DATABASE+';UID='+USER+';PWD='+ PWD)\n",
    "\n",
    "# Create a cursor object\n",
    "cursor = cnxn.cursor()"
   ]
  },
  {
   "cell_type": "markdown",
   "id": "b9ef05fa-d594-43f3-a2fe-5219738a4dc0",
   "metadata": {},
   "source": [
    "#### Create DimDate table if not exist"
   ]
  },
  {
   "cell_type": "code",
   "execution_count": 69,
   "id": "73ead0c4-6d62-4c27-a95f-5800ec61a076",
   "metadata": {},
   "outputs": [],
   "source": [
    "# Create a table if it doesn't exist\n",
    "try:\n",
    "    cursor.execute(\"\"\"\n",
    "    CREATE TABLE DimDate(\n",
    "        aika_id int IDENTITY(1,1) Primary Key,\n",
    "        pvm int,\n",
    "        vuosi int,\n",
    "        kvartaali int,\n",
    "        kuukausi int,\n",
    "        paiva int,\n",
    "        date date,\n",
    "        viikonpaiva varchar(15)\n",
    "        )\n",
    "    \"\"\")\n",
    "\n",
    "except:\n",
    "    print('Table already exists!')\n",
    "    cursor.execute(\"TRUNCATE TABLE DimDate\")\n",
    "\n",
    "cnxn.commit()\n",
    "\n",
    "# klo"
   ]
  },
  {
   "cell_type": "code",
   "execution_count": 49,
   "id": "49c3121c-2577-41af-914f-7facb370d0a2",
   "metadata": {},
   "outputs": [
    {
     "data": {
      "text/plain": [
       "<pyodbc.Cursor at 0x1a4762d3030>"
      ]
     },
     "execution_count": 49,
     "metadata": {},
     "output_type": "execute_result"
    }
   ],
   "source": [
    "# cursor.execute(\"DROP TABLE DimDate\")"
   ]
  },
  {
   "cell_type": "markdown",
   "id": "cef88d80-df86-4502-9208-1b89786d8d17",
   "metadata": {},
   "source": [
    "#### Load data into DimDat table from newDf (data frame)"
   ]
  },
  {
   "cell_type": "code",
   "execution_count": 70,
   "id": "621191fe-be84-4b18-912b-076d2484e25b",
   "metadata": {},
   "outputs": [
    {
     "data": {
      "text/html": [
       "<div>\n",
       "<style scoped>\n",
       "    .dataframe tbody tr th:only-of-type {\n",
       "        vertical-align: middle;\n",
       "    }\n",
       "\n",
       "    .dataframe tbody tr th {\n",
       "        vertical-align: top;\n",
       "    }\n",
       "\n",
       "    .dataframe thead th {\n",
       "        text-align: right;\n",
       "    }\n",
       "</style>\n",
       "<table border=\"1\" class=\"dataframe\">\n",
       "  <thead>\n",
       "    <tr style=\"text-align: right;\">\n",
       "      <th></th>\n",
       "      <th>pvm</th>\n",
       "      <th>vuosi</th>\n",
       "      <th>kvartaali</th>\n",
       "      <th>kuukausi</th>\n",
       "      <th>paiva</th>\n",
       "      <th>date</th>\n",
       "      <th>viikonpaiva</th>\n",
       "    </tr>\n",
       "  </thead>\n",
       "  <tbody>\n",
       "    <tr>\n",
       "      <th>0</th>\n",
       "      <td>20190101</td>\n",
       "      <td>2019</td>\n",
       "      <td>1</td>\n",
       "      <td>01</td>\n",
       "      <td>01</td>\n",
       "      <td>2019-01-01</td>\n",
       "      <td>tiistai</td>\n",
       "    </tr>\n",
       "  </tbody>\n",
       "</table>\n",
       "</div>"
      ],
      "text/plain": [
       "        pvm  vuosi  kvartaali kuukausi paiva        date viikonpaiva\n",
       "0  20190101   2019          1       01    01  2019-01-01     tiistai"
      ]
     },
     "execution_count": 70,
     "metadata": {},
     "output_type": "execute_result"
    }
   ],
   "source": [
    "df.head(1)"
   ]
  },
  {
   "cell_type": "code",
   "execution_count": 71,
   "id": "95d1bc27-0250-4acb-8ed3-6d294b79f9c4",
   "metadata": {},
   "outputs": [],
   "source": [
    "for index, row in df.iterrows():\n",
    "    cursor.execute(\"INSERT INTO DimDate values(?,?,?,?,?,?,?)\",\n",
    "                   row['pvm'],\n",
    "                   row['vuosi'],\n",
    "                   row['kvartaali'],\n",
    "                   row['kuukausi'],\n",
    "                   row['paiva'],\n",
    "                   row['date'],\n",
    "                   row['viikonpaiva']\n",
    "                   )\n",
    "    \n",
    "cnxn.commit()\n"
   ]
  },
  {
   "cell_type": "code",
   "execution_count": 72,
   "id": "fd2fd8ff-2d75-4932-8be9-16f3bfaf0b0f",
   "metadata": {},
   "outputs": [],
   "source": [
    "cursor.close()\n",
    "cnxn.close()"
   ]
  },
  {
   "cell_type": "code",
   "execution_count": 114,
   "id": "faaf01d2-516d-45bf-8e88-9ef42beb6f01",
   "metadata": {},
   "outputs": [
    {
     "name": "stdout",
     "output_type": "stream",
     "text": [
      "0        False\n",
      "1         True\n",
      "2         True\n",
      "3         True\n",
      "4         True\n",
      "         ...  \n",
      "37196     True\n",
      "37197     True\n",
      "37198     True\n",
      "37199     True\n",
      "37200    False\n",
      "Name: pvm, Length: 37201, dtype: bool\n",
      "HELLOOO\n",
      "            pvm  vuosi kvartaali kuukausi paiva tunti            datetime\n",
      "1      20190101   2019     talvi       01    01    01 2019-01-01 01:00:00\n",
      "2      20190101   2019     talvi       01    01    02 2019-01-01 02:00:00\n",
      "3      20190101   2019     talvi       01    01    03 2019-01-01 03:00:00\n",
      "4      20190101   2019     talvi       01    01    04 2019-01-01 04:00:00\n",
      "5      20190101   2019     talvi       01    01    05 2019-01-01 05:00:00\n",
      "...         ...    ...       ...      ...   ...   ...                 ...\n",
      "37195  20230330   2023     talvi       03    30    19 2023-03-30 19:00:00\n",
      "37196  20230330   2023     talvi       03    30    20 2023-03-30 20:00:00\n",
      "37197  20230330   2023     talvi       03    30    21 2023-03-30 21:00:00\n",
      "37198  20230330   2023     talvi       03    30    22 2023-03-30 22:00:00\n",
      "37199  20230330   2023     talvi       03    30    23 2023-03-30 23:00:00\n",
      "\n",
      "[35650 rows x 7 columns]\n"
     ]
    }
   ],
   "source": [
    "\n",
    "# check if values in column 'B' are unique\n",
    "print(df['datetime'].duplicated())\n",
    "\n",
    "print(\"HELLOOO\")\n",
    "# show only duplicated values\n",
    "print(df[df['pvm'].duplicated()])"
   ]
  },
  {
   "cell_type": "code",
   "execution_count": null,
   "id": "6d7bb27c-2324-448c-9fd2-8125270838fe",
   "metadata": {},
   "outputs": [],
   "source": []
  }
 ],
 "metadata": {
  "kernelspec": {
   "display_name": "Python 3 (ipykernel)",
   "language": "python",
   "name": "python3"
  },
  "language_info": {
   "codemirror_mode": {
    "name": "ipython",
    "version": 3
   },
   "file_extension": ".py",
   "mimetype": "text/x-python",
   "name": "python",
   "nbconvert_exporter": "python",
   "pygments_lexer": "ipython3",
   "version": "3.9.13"
  }
 },
 "nbformat": 4,
 "nbformat_minor": 5
}
