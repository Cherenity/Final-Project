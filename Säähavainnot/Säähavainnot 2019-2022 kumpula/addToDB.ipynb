{
 "cells": [
  {
   "cell_type": "markdown",
   "id": "3c6e0f85-050a-435a-a9fc-35c4feed1d4f",
   "metadata": {},
   "source": [
    "### Configurations"
   ]
  },
  {
   "cell_type": "code",
   "execution_count": 5,
   "id": "b5d7b48c-f8f6-40b1-a154-b38408ca0918",
   "metadata": {},
   "outputs": [],
   "source": [
    "import pyodbc\n",
    "import pandas as pd\n",
    "from warnings import simplefilter\n",
    "\n",
    "SERVER = 'localhost'\n",
    "DATABASE = 'FinalProject'\n",
    "USER = 'sa'\n",
    "PWD = 'Winter11'\n",
    "\n",
    "simplefilter(action='ignore', category=UserWarning)"
   ]
  },
  {
   "cell_type": "markdown",
   "id": "35ec41c7-2528-41c1-b4c4-95a9846be805",
   "metadata": {},
   "source": [
    "### Create DB if not exist"
   ]
  },
  {
   "cell_type": "code",
   "execution_count": 6,
   "id": "89dab8fd-f6f2-465d-889f-a84d18263f7c",
   "metadata": {},
   "outputs": [
    {
     "name": "stdout",
     "output_type": "stream",
     "text": [
      "Database already exists!\n"
     ]
    }
   ],
   "source": [
    "try:\n",
    "    cnxn = pyodbc.connect('DRIVER={ODBC Driver 17 for SQL Server};SERVER='+SERVER+';UID='+USER+';PWD='+ PWD, autocommit=True)\n",
    "    cursor = cnxn.cursor()\n",
    "    cursor.execute(\"CREATE DATABASE FinalProject\")\n",
    "    cnxn.commit()\n",
    "    cursor.close()\n",
    "    cnxn.close()\n",
    "except:\n",
    "    print('Database already exists!')"
   ]
  },
  {
   "cell_type": "markdown",
   "id": "7fb6edfd-e778-4e39-b0d5-ef0d5abb761b",
   "metadata": {},
   "source": [
    "### Create Weather table if not exist"
   ]
  },
  {
   "cell_type": "code",
   "execution_count": 21,
   "id": "d25855da-7802-4945-8552-86ae6f4b2838",
   "metadata": {},
   "outputs": [],
   "source": [
    "cnxn = pyodbc.connect('DRIVER={ODBC Driver 17 for SQL Server};SERVER='+SERVER+';DATABASE='+DATABASE+';UID='+USER+';PWD='+ PWD)\n",
    "cursor = cnxn.cursor()\n",
    "try:\n",
    "    cursor.execute(\"\"\"\n",
    "    CREATE TABLE Weather(\n",
    "        saa_id int IDENTITY(1,1) Primary Key,\n",
    "        sademaara float,\n",
    "        sateen_intensiteetti float,\n",
    "        lumen_syvyys int,\n",
    "        ilman_lampotila float,\n",
    "        nakyvyys int,\n",
    "        tuulen_nopeus float,\n",
    "        pvm int\n",
    "        )\n",
    "    \"\"\")\n",
    "\n",
    "except:\n",
    "    print('Table already exists!')\n",
    "    cursor.execute(\"TRUNCATE TABLE Weather\")\n",
    "\n",
    "cnxn.commit()\n",
    "cursor.close()\n",
    "cnxn.close()"
   ]
  },
  {
   "cell_type": "markdown",
   "id": "bdbd4969-3c6b-4e70-8871-d7a4d2ac86bb",
   "metadata": {},
   "source": [
    "### Load Weather Data"
   ]
  },
  {
   "cell_type": "code",
   "execution_count": 18,
   "id": "27e4b9d2-0616-40e9-aad7-1149cd9712d5",
   "metadata": {},
   "outputs": [
    {
     "name": "stdout",
     "output_type": "stream",
     "text": [
      "Index(['Unnamed: 0', 'sademaara', 'sateen_intensiteetti', 'lumen_syvyys',\n",
      "       'ilman_lampotila', 'nakyvyys', 'tuulen_nopeus', 'pvm'],\n",
      "      dtype='object')\n"
     ]
    }
   ],
   "source": [
    "print(df_weather.columns)\n",
    "df_weather['saa_id'] = df_weather.index + 1\n"
   ]
  },
  {
   "cell_type": "code",
   "execution_count": 24,
   "id": "b9f8a7c6-bdb5-472d-acae-91ae596456e1",
   "metadata": {},
   "outputs": [
    {
     "ename": "ValueError",
     "evalue": "invalid literal for int() with base 10: '0.9'",
     "output_type": "error",
     "traceback": [
      "\u001b[1;31m---------------------------------------------------------------------------\u001b[0m",
      "\u001b[1;31mValueError\u001b[0m                                Traceback (most recent call last)",
      "\u001b[1;32m~\\AppData\\Local\\Temp\\ipykernel_24104\\2745490310.py\u001b[0m in \u001b[0;36m<module>\u001b[1;34m\u001b[0m\n\u001b[0;32m      5\u001b[0m \u001b[1;32mfor\u001b[0m \u001b[0mindex\u001b[0m\u001b[1;33m,\u001b[0m \u001b[0mrow\u001b[0m \u001b[1;32min\u001b[0m \u001b[0mdf_weather\u001b[0m\u001b[1;33m.\u001b[0m\u001b[0miterrows\u001b[0m\u001b[1;33m(\u001b[0m\u001b[1;33m)\u001b[0m\u001b[1;33m:\u001b[0m\u001b[1;33m\u001b[0m\u001b[1;33m\u001b[0m\u001b[0m\n\u001b[0;32m      6\u001b[0m     cursor.execute(\"INSERT INTO dbo.Weather values(?,?,?,?,?,?,?)\",\n\u001b[1;32m----> 7\u001b[1;33m                    \u001b[0mint\u001b[0m\u001b[1;33m(\u001b[0m\u001b[0mrow\u001b[0m\u001b[1;33m[\u001b[0m\u001b[1;34m'sademaara'\u001b[0m\u001b[1;33m]\u001b[0m\u001b[1;33m)\u001b[0m\u001b[1;33m,\u001b[0m\u001b[1;33m\u001b[0m\u001b[1;33m\u001b[0m\u001b[0m\n\u001b[0m\u001b[0;32m      8\u001b[0m                    \u001b[0mfloat\u001b[0m\u001b[1;33m(\u001b[0m\u001b[0mrow\u001b[0m\u001b[1;33m[\u001b[0m\u001b[1;34m'sateen_intensiteetti'\u001b[0m\u001b[1;33m]\u001b[0m\u001b[1;33m)\u001b[0m\u001b[1;33m,\u001b[0m\u001b[1;33m\u001b[0m\u001b[1;33m\u001b[0m\u001b[0m\n\u001b[0;32m      9\u001b[0m                    \u001b[0mint\u001b[0m\u001b[1;33m(\u001b[0m\u001b[0mrow\u001b[0m\u001b[1;33m[\u001b[0m\u001b[1;34m'lumen_syvyys'\u001b[0m\u001b[1;33m]\u001b[0m\u001b[1;33m)\u001b[0m\u001b[1;33m,\u001b[0m\u001b[1;33m\u001b[0m\u001b[1;33m\u001b[0m\u001b[0m\n",
      "\u001b[1;31mValueError\u001b[0m: invalid literal for int() with base 10: '0.9'"
     ]
    }
   ],
   "source": [
    "cnxn = pyodbc.connect('DRIVER={ODBC Driver 17 for SQL Server};SERVER='+SERVER+';DATABASE='+DATABASE+';UID='+USER+';PWD='+ PWD)\n",
    "cursor = cnxn.cursor()\n",
    "\n",
    "df_weather = pd.read_csv(WEATHER_FILE2019)\n",
    "for index, row in df_weather.iterrows():\n",
    "    cursor.execute(\"INSERT INTO dbo.Weather values(?,?,?,?,?,?,?)\",\n",
    "                   int(row['sademaara']),\n",
    "                   float(row['sateen_intensiteetti']),\n",
    "                   int(row['lumen_syvyys']),\n",
    "                   float(row['ilman_lampotila']),\n",
    "                   int(row['nakyvyys']),\n",
    "                   float(row['tuulen_nopeus']),\n",
    "                   int(row['pvm'])\n",
    "                   )\n",
    "    cnxn.commit()\n",
    "cursor.close()\n",
    "cnxn.close()"
   ]
  },
  {
   "cell_type": "code",
   "execution_count": null,
   "id": "3e270593-732e-4329-86ec-bcbea7506322",
   "metadata": {},
   "outputs": [],
   "source": []
  }
 ],
 "metadata": {
  "kernelspec": {
   "display_name": "Python 3 (ipykernel)",
   "language": "python",
   "name": "python3"
  },
  "language_info": {
   "codemirror_mode": {
    "name": "ipython",
    "version": 3
   },
   "file_extension": ".py",
   "mimetype": "text/x-python",
   "name": "python",
   "nbconvert_exporter": "python",
   "pygments_lexer": "ipython3",
   "version": "3.9.13"
  }
 },
 "nbformat": 4,
 "nbformat_minor": 5
}
