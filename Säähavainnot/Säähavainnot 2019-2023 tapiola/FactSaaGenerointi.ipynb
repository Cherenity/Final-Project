{
 "cells": [
  {
   "cell_type": "markdown",
   "id": "f900243a-679c-4049-89b5-cdcdd740282a",
   "metadata": {},
   "source": [
    "### Combines CSV files to one DF"
   ]
  },
  {
   "cell_type": "code",
   "execution_count": 35,
   "id": "b827af21-aa7d-472b-b257-89ed5eb51bbc",
   "metadata": {},
   "outputs": [
    {
     "name": "stdout",
     "output_type": "stream",
     "text": [
      "35068\n"
     ]
    },
    {
     "data": {
      "text/html": [
       "<div>\n",
       "<style scoped>\n",
       "    .dataframe tbody tr th:only-of-type {\n",
       "        vertical-align: middle;\n",
       "    }\n",
       "\n",
       "    .dataframe tbody tr th {\n",
       "        vertical-align: top;\n",
       "    }\n",
       "\n",
       "    .dataframe thead th {\n",
       "        text-align: right;\n",
       "    }\n",
       "</style>\n",
       "<table border=\"1\" class=\"dataframe\">\n",
       "  <thead>\n",
       "    <tr style=\"text-align: right;\">\n",
       "      <th></th>\n",
       "      <th>Vuosi</th>\n",
       "      <th>Kk</th>\n",
       "      <th>Pv</th>\n",
       "      <th>Klo</th>\n",
       "      <th>Aikavyöhyke</th>\n",
       "      <th>Sademäärä (mm)</th>\n",
       "      <th>Sateen intensiteetti (mm/h)</th>\n",
       "      <th>Lumensyvyys (cm)</th>\n",
       "      <th>Ilman lämpötila (degC)</th>\n",
       "      <th>Näkyvyys (m)</th>\n",
       "      <th>Tuulen nopeus (m/s)</th>\n",
       "    </tr>\n",
       "  </thead>\n",
       "  <tbody>\n",
       "    <tr>\n",
       "      <th>0</th>\n",
       "      <td>2019</td>\n",
       "      <td>1</td>\n",
       "      <td>1</td>\n",
       "      <td>00:00</td>\n",
       "      <td>UTC</td>\n",
       "      <td>0.9</td>\n",
       "      <td>1.1</td>\n",
       "      <td>7</td>\n",
       "      <td>0.8</td>\n",
       "      <td>3180</td>\n",
       "      <td>7.9</td>\n",
       "    </tr>\n",
       "  </tbody>\n",
       "</table>\n",
       "</div>"
      ],
      "text/plain": [
       "   Vuosi  Kk  Pv    Klo Aikavyöhyke Sademäärä (mm)  \\\n",
       "0   2019   1   1  00:00         UTC            0.9   \n",
       "\n",
       "  Sateen intensiteetti (mm/h) Lumensyvyys (cm) Ilman lämpötila (degC)  \\\n",
       "0                         1.1                7                    0.8   \n",
       "\n",
       "  Näkyvyys (m) Tuulen nopeus (m/s)  \n",
       "0         3180                 7.9  "
      ]
     },
     "execution_count": 35,
     "metadata": {},
     "output_type": "execute_result"
    }
   ],
   "source": [
    "import  pandas as pd\n",
    "\n",
    "# Read CSV file into DataFrame\n",
    "df1 = pd.read_csv('saahavainnot_2019_kumpula.csv', sep=',')\n",
    "df2 =  pd.read_csv('saahavainnot_2020_kumpula.csv', sep=',')\n",
    "df3 =  pd.read_csv('saahavainnot_2021_kumpula.csv', sep=',')\n",
    "df4 =  pd.read_csv('saahavainnot_2022_kumpula.csv', sep=',')\n",
    "\n",
    "\n",
    "# Combines two csv files into one df. This way we can combine many csv files into one df\n",
    "df = pd.concat([df1, df2, df3, df4])\n",
    "# Get row count using len() function\n",
    "row_count = len(df)\n",
    "print(row_count)\n",
    "\n",
    "df.head(1)"
   ]
  },
  {
   "cell_type": "code",
   "execution_count": 36,
   "id": "de69dfed-d969-4cd0-beac-7b47ecaba14d",
   "metadata": {},
   "outputs": [
    {
     "name": "stdout",
     "output_type": "stream",
     "text": [
      "35068\n"
     ]
    },
    {
     "data": {
      "text/html": [
       "<div>\n",
       "<style scoped>\n",
       "    .dataframe tbody tr th:only-of-type {\n",
       "        vertical-align: middle;\n",
       "    }\n",
       "\n",
       "    .dataframe tbody tr th {\n",
       "        vertical-align: top;\n",
       "    }\n",
       "\n",
       "    .dataframe thead th {\n",
       "        text-align: right;\n",
       "    }\n",
       "</style>\n",
       "<table border=\"1\" class=\"dataframe\">\n",
       "  <thead>\n",
       "    <tr style=\"text-align: right;\">\n",
       "      <th></th>\n",
       "      <th>Vuosi</th>\n",
       "      <th>Kk</th>\n",
       "      <th>Pv</th>\n",
       "      <th>Klo</th>\n",
       "      <th>Aikavyöhyke</th>\n",
       "      <th>Sademäärä (mm)</th>\n",
       "      <th>Sateen intensiteetti (mm/h)</th>\n",
       "      <th>Lumensyvyys (cm)</th>\n",
       "      <th>Ilman lämpötila (degC)</th>\n",
       "      <th>Näkyvyys (m)</th>\n",
       "      <th>Tuulen nopeus (m/s)</th>\n",
       "    </tr>\n",
       "  </thead>\n",
       "  <tbody>\n",
       "    <tr>\n",
       "      <th>0</th>\n",
       "      <td>2019</td>\n",
       "      <td>1</td>\n",
       "      <td>1</td>\n",
       "      <td>00:00</td>\n",
       "      <td>UTC</td>\n",
       "      <td>0.9</td>\n",
       "      <td>1.1</td>\n",
       "      <td>7</td>\n",
       "      <td>0.8</td>\n",
       "      <td>3180</td>\n",
       "      <td>7.9</td>\n",
       "    </tr>\n",
       "  </tbody>\n",
       "</table>\n",
       "</div>"
      ],
      "text/plain": [
       "   Vuosi  Kk  Pv    Klo Aikavyöhyke Sademäärä (mm)  \\\n",
       "0   2019   1   1  00:00         UTC            0.9   \n",
       "\n",
       "  Sateen intensiteetti (mm/h) Lumensyvyys (cm) Ilman lämpötila (degC)  \\\n",
       "0                         1.1                7                    0.8   \n",
       "\n",
       "  Näkyvyys (m) Tuulen nopeus (m/s)  \n",
       "0         3180                 7.9  "
      ]
     },
     "execution_count": 36,
     "metadata": {},
     "output_type": "execute_result"
    }
   ],
   "source": [
    "# Remove all rows with null values\n",
    "df.dropna(inplace=True, axis=0)\n",
    "# Remove all columns with null values\n",
    "df.dropna(inplace=True, axis=1) \n",
    "\n",
    "# Get row count using len() function after removal of null values\n",
    "row_count = len(df)\n",
    "print(row_count)\n",
    "\n",
    "# Mikäli edelleen sama, niin ei ole null arvoja\n",
    "df.head(1)"
   ]
  },
  {
   "cell_type": "code",
   "execution_count": 37,
   "id": "b53457e0-9f58-4ad8-9014-7becbb592f9c",
   "metadata": {},
   "outputs": [
    {
     "data": {
      "text/html": [
       "<div>\n",
       "<style scoped>\n",
       "    .dataframe tbody tr th:only-of-type {\n",
       "        vertical-align: middle;\n",
       "    }\n",
       "\n",
       "    .dataframe tbody tr th {\n",
       "        vertical-align: top;\n",
       "    }\n",
       "\n",
       "    .dataframe thead th {\n",
       "        text-align: right;\n",
       "    }\n",
       "</style>\n",
       "<table border=\"1\" class=\"dataframe\">\n",
       "  <thead>\n",
       "    <tr style=\"text-align: right;\">\n",
       "      <th></th>\n",
       "      <th>Vuosi</th>\n",
       "      <th>Kk</th>\n",
       "      <th>Pv</th>\n",
       "      <th>Klo</th>\n",
       "      <th>Aikavyöhyke</th>\n",
       "      <th>Sademäärä (mm)</th>\n",
       "      <th>Sateen intensiteetti (mm/h)</th>\n",
       "      <th>Lumensyvyys (cm)</th>\n",
       "      <th>Ilman lämpötila (degC)</th>\n",
       "      <th>Näkyvyys (m)</th>\n",
       "      <th>Tuulen nopeus (m/s)</th>\n",
       "      <th>pvm</th>\n",
       "    </tr>\n",
       "  </thead>\n",
       "  <tbody>\n",
       "    <tr>\n",
       "      <th>0</th>\n",
       "      <td>2019</td>\n",
       "      <td>01</td>\n",
       "      <td>01</td>\n",
       "      <td>00:00</td>\n",
       "      <td>UTC</td>\n",
       "      <td>0.9</td>\n",
       "      <td>1.1</td>\n",
       "      <td>7</td>\n",
       "      <td>0.8</td>\n",
       "      <td>3180</td>\n",
       "      <td>7.9</td>\n",
       "      <td>20190101</td>\n",
       "    </tr>\n",
       "    <tr>\n",
       "      <th>1</th>\n",
       "      <td>2019</td>\n",
       "      <td>01</td>\n",
       "      <td>01</td>\n",
       "      <td>01:00</td>\n",
       "      <td>UTC</td>\n",
       "      <td>2.2</td>\n",
       "      <td>2.4</td>\n",
       "      <td>7</td>\n",
       "      <td>1.5</td>\n",
       "      <td>2360</td>\n",
       "      <td>8.5</td>\n",
       "      <td>20190101</td>\n",
       "    </tr>\n",
       "    <tr>\n",
       "      <th>2</th>\n",
       "      <td>2019</td>\n",
       "      <td>01</td>\n",
       "      <td>01</td>\n",
       "      <td>02:00</td>\n",
       "      <td>UTC</td>\n",
       "      <td>1.7</td>\n",
       "      <td>0.8</td>\n",
       "      <td>7</td>\n",
       "      <td>2</td>\n",
       "      <td>2800</td>\n",
       "      <td>9.8</td>\n",
       "      <td>20190101</td>\n",
       "    </tr>\n",
       "  </tbody>\n",
       "</table>\n",
       "</div>"
      ],
      "text/plain": [
       "   Vuosi  Kk  Pv    Klo Aikavyöhyke Sademäärä (mm)  \\\n",
       "0   2019  01  01  00:00         UTC            0.9   \n",
       "1   2019  01  01  01:00         UTC            2.2   \n",
       "2   2019  01  01  02:00         UTC            1.7   \n",
       "\n",
       "  Sateen intensiteetti (mm/h) Lumensyvyys (cm) Ilman lämpötila (degC)  \\\n",
       "0                         1.1                7                    0.8   \n",
       "1                         2.4                7                    1.5   \n",
       "2                         0.8                7                      2   \n",
       "\n",
       "  Näkyvyys (m) Tuulen nopeus (m/s)       pvm  \n",
       "0         3180                 7.9  20190101  \n",
       "1         2360                 8.5  20190101  \n",
       "2         2800                 9.8  20190101  "
      ]
     },
     "execution_count": 37,
     "metadata": {},
     "output_type": "execute_result"
    }
   ],
   "source": [
    "#Creating PVM column\n",
    "df['Kk'] = df['Kk'].apply(lambda x: '{0:0>2}'.format(x))\n",
    "df['Pv'] = df['Pv'].apply(lambda x: '{0:0>2}'.format(x))\n",
    "df['pvm'] = df['Vuosi'].astype(str) + df['Kk'].astype(str) + df['Pv'].astype(str) \n",
    "df.head(3)"
   ]
  },
  {
   "cell_type": "code",
   "execution_count": 38,
   "id": "e7f456e1-c672-4ffd-8695-b52865191cb5",
   "metadata": {},
   "outputs": [
    {
     "data": {
      "text/html": [
       "<div>\n",
       "<style scoped>\n",
       "    .dataframe tbody tr th:only-of-type {\n",
       "        vertical-align: middle;\n",
       "    }\n",
       "\n",
       "    .dataframe tbody tr th {\n",
       "        vertical-align: top;\n",
       "    }\n",
       "\n",
       "    .dataframe thead th {\n",
       "        text-align: right;\n",
       "    }\n",
       "</style>\n",
       "<table border=\"1\" class=\"dataframe\">\n",
       "  <thead>\n",
       "    <tr style=\"text-align: right;\">\n",
       "      <th></th>\n",
       "      <th>Sademäärä (mm)</th>\n",
       "      <th>Sateen intensiteetti (mm/h)</th>\n",
       "      <th>Lumensyvyys (cm)</th>\n",
       "      <th>Ilman lämpötila (degC)</th>\n",
       "      <th>Näkyvyys (m)</th>\n",
       "      <th>Tuulen nopeus (m/s)</th>\n",
       "      <th>pvm</th>\n",
       "      <th>Klo</th>\n",
       "    </tr>\n",
       "  </thead>\n",
       "  <tbody>\n",
       "    <tr>\n",
       "      <th>0</th>\n",
       "      <td>0.9</td>\n",
       "      <td>1.1</td>\n",
       "      <td>7</td>\n",
       "      <td>0.8</td>\n",
       "      <td>3180</td>\n",
       "      <td>7.9</td>\n",
       "      <td>20190101</td>\n",
       "      <td>00:00</td>\n",
       "    </tr>\n",
       "    <tr>\n",
       "      <th>1</th>\n",
       "      <td>2.2</td>\n",
       "      <td>2.4</td>\n",
       "      <td>7</td>\n",
       "      <td>1.5</td>\n",
       "      <td>2360</td>\n",
       "      <td>8.5</td>\n",
       "      <td>20190101</td>\n",
       "      <td>01:00</td>\n",
       "    </tr>\n",
       "  </tbody>\n",
       "</table>\n",
       "</div>"
      ],
      "text/plain": [
       "  Sademäärä (mm) Sateen intensiteetti (mm/h) Lumensyvyys (cm)  \\\n",
       "0            0.9                         1.1                7   \n",
       "1            2.2                         2.4                7   \n",
       "\n",
       "  Ilman lämpötila (degC) Näkyvyys (m) Tuulen nopeus (m/s)       pvm    Klo  \n",
       "0                    0.8         3180                 7.9  20190101  00:00  \n",
       "1                    1.5         2360                 8.5  20190101  01:00  "
      ]
     },
     "execution_count": 38,
     "metadata": {},
     "output_type": "execute_result"
    }
   ],
   "source": [
    "# Generating new DF\n",
    "newDf = df[['Sademäärä (mm)', 'Sateen intensiteetti (mm/h)', 'Lumensyvyys (cm)', 'Ilman lämpötila (degC)', 'Näkyvyys (m)', 'Tuulen nopeus (m/s)', 'pvm','Klo']].copy()\n",
    "newDf.head(2)"
   ]
  },
  {
   "cell_type": "code",
   "execution_count": 39,
   "id": "b41bb667-6351-4eff-9a6f-775711381ba8",
   "metadata": {},
   "outputs": [
    {
     "data": {
      "text/html": [
       "<div>\n",
       "<style scoped>\n",
       "    .dataframe tbody tr th:only-of-type {\n",
       "        vertical-align: middle;\n",
       "    }\n",
       "\n",
       "    .dataframe tbody tr th {\n",
       "        vertical-align: top;\n",
       "    }\n",
       "\n",
       "    .dataframe thead th {\n",
       "        text-align: right;\n",
       "    }\n",
       "</style>\n",
       "<table border=\"1\" class=\"dataframe\">\n",
       "  <thead>\n",
       "    <tr style=\"text-align: right;\">\n",
       "      <th></th>\n",
       "      <th>sademaara</th>\n",
       "      <th>sateen_intensiteetti</th>\n",
       "      <th>lumen_syvyys</th>\n",
       "      <th>ilman_lampotila</th>\n",
       "      <th>nakyvyys</th>\n",
       "      <th>tuulen_nopeus</th>\n",
       "      <th>pvm</th>\n",
       "      <th>klo</th>\n",
       "      <th>sijainti_id</th>\n",
       "    </tr>\n",
       "  </thead>\n",
       "  <tbody>\n",
       "    <tr>\n",
       "      <th>0</th>\n",
       "      <td>0.9</td>\n",
       "      <td>1.1</td>\n",
       "      <td>7</td>\n",
       "      <td>0.8</td>\n",
       "      <td>3180</td>\n",
       "      <td>7.9</td>\n",
       "      <td>20190101</td>\n",
       "      <td>00</td>\n",
       "      <td>154</td>\n",
       "    </tr>\n",
       "    <tr>\n",
       "      <th>1</th>\n",
       "      <td>2.2</td>\n",
       "      <td>2.4</td>\n",
       "      <td>7</td>\n",
       "      <td>1.5</td>\n",
       "      <td>2360</td>\n",
       "      <td>8.5</td>\n",
       "      <td>20190101</td>\n",
       "      <td>01</td>\n",
       "      <td>154</td>\n",
       "    </tr>\n",
       "    <tr>\n",
       "      <th>2</th>\n",
       "      <td>1.7</td>\n",
       "      <td>0.8</td>\n",
       "      <td>7</td>\n",
       "      <td>2</td>\n",
       "      <td>2800</td>\n",
       "      <td>9.8</td>\n",
       "      <td>20190101</td>\n",
       "      <td>02</td>\n",
       "      <td>154</td>\n",
       "    </tr>\n",
       "  </tbody>\n",
       "</table>\n",
       "</div>"
      ],
      "text/plain": [
       "  sademaara sateen_intensiteetti lumen_syvyys ilman_lampotila nakyvyys  \\\n",
       "0       0.9                  1.1            7             0.8     3180   \n",
       "1       2.2                  2.4            7             1.5     2360   \n",
       "2       1.7                  0.8            7               2     2800   \n",
       "\n",
       "  tuulen_nopeus       pvm klo  sijainti_id  \n",
       "0           7.9  20190101  00          154  \n",
       "1           8.5  20190101  01          154  \n",
       "2           9.8  20190101  02          154  "
      ]
     },
     "execution_count": 39,
     "metadata": {},
     "output_type": "execute_result"
    }
   ],
   "source": [
    "# Rename columns \n",
    "newDf.rename(columns={'Sademäärä (mm)': 'sademaara', 'Sateen intensiteetti (mm/h)' : 'sateen_intensiteetti'}, inplace=True)\n",
    "newDf.rename(columns={'Lumensyvyys (cm)': 'lumen_syvyys', 'Ilman lämpötila (degC)' : 'ilman_lampotila'}, inplace=True)\n",
    "newDf.rename(columns={'Näkyvyys (m)': 'nakyvyys', 'Tuulen nopeus (m/s)' : 'tuulen_nopeus'}, inplace=True)\n",
    "newDf.rename(columns={'Klo': 'klo'}, inplace=True)\n",
    "newDf['klo'] = newDf['klo'].str.replace(':00', '')\n",
    "newDf['sijainti_id'] = 154\n",
    "\n",
    "# replaces values that have only - with 0\n",
    "newDf.replace('-', 0, inplace=True)\n",
    "\n",
    "newDf.head(3)"
   ]
  },
  {
   "cell_type": "markdown",
   "id": "c556486c-053d-4e48-aea5-696ea71a107c",
   "metadata": {},
   "source": [
    "### Writing New Dataframe to CSV"
   ]
  },
  {
   "cell_type": "code",
   "execution_count": 40,
   "id": "bdd33e4c-01f7-4c29-87ef-f4e9419a2393",
   "metadata": {},
   "outputs": [],
   "source": [
    "newDf.to_csv('FactSaa.csv', sep=',')"
   ]
  },
  {
   "cell_type": "code",
   "execution_count": 41,
   "id": "ab5c7bd2-adec-48bd-abaf-38ca8da2049d",
   "metadata": {},
   "outputs": [
    {
     "name": "stdout",
     "output_type": "stream",
     "text": [
      "35068\n"
     ]
    }
   ],
   "source": [
    "row_count = len(newDf)\n",
    "print(row_count)\n",
    "# 35068"
   ]
  },
  {
   "cell_type": "markdown",
   "id": "272cea1c-1d8e-4142-8e8c-938bff32275e",
   "metadata": {},
   "source": [
    "### Configurations / SQL Database etc."
   ]
  },
  {
   "cell_type": "code",
   "execution_count": 42,
   "id": "7e9fbfc3-226d-4e5a-862f-a684ae9d4548",
   "metadata": {},
   "outputs": [],
   "source": [
    "import pyodbc\n",
    "import pandas as pd\n",
    "from warnings import simplefilter\n",
    "\n",
    "SERVER = 'localhost'\n",
    "DATABASE = 'FinalProject'\n",
    "USER = 'sa'\n",
    "PWD = 'Winter11'\n",
    "\n",
    "simplefilter(action='ignore', category=UserWarning)\n",
    "\n",
    "# Create a connection object\n",
    "cnxn = pyodbc.connect('DRIVER={ODBC Driver 17 for SQL Server};SERVER='+SERVER+';DATABASE='+DATABASE+';UID='+USER+';PWD='+ PWD)\n",
    "\n",
    "# Create a cursor object\n",
    "cursor = cnxn.cursor()\n"
   ]
  },
  {
   "cell_type": "markdown",
   "id": "bfffeeae-82ee-4961-ba89-f14b8c671de7",
   "metadata": {},
   "source": [
    "### Create FactSaa table if not exist"
   ]
  },
  {
   "cell_type": "code",
   "execution_count": 44,
   "id": "f21f68d8-f140-42a3-8f21-63b3b516d703",
   "metadata": {},
   "outputs": [],
   "source": [
    "\n",
    "# Create a table if it doesn't exist\n",
    "try:\n",
    "    cursor.execute(\"\"\"\n",
    "    CREATE TABLE FactSaa(\n",
    "        saa_id int IDENTITY(1,1) Primary Key,\n",
    "        sademaara float,\n",
    "        sateen_intensiteetti float,\n",
    "        lumen_syvyys int,\n",
    "        ilman_lampotila float,\n",
    "        nakyvyys int,\n",
    "        tuulen_nopeus float,\n",
    "        pvm int,\n",
    "        klo int,\n",
    "        sijainti_id int\n",
    "        )\n",
    "    \"\"\")\n",
    "\n",
    "except:\n",
    "    print('Table already exists!')\n",
    "    cursor.execute(\"TRUNCATE TABLE FactSaa\")\n",
    "\n",
    "cnxn.commit()\n",
    "\n",
    "# klo"
   ]
  },
  {
   "cell_type": "markdown",
   "id": "b6f49a17-8934-467c-84d4-3758e6d5a533",
   "metadata": {},
   "source": [
    "### Load data into FactSaa table from newDf (data frame)"
   ]
  },
  {
   "cell_type": "code",
   "execution_count": 45,
   "id": "f5889154-1a7d-4a93-968d-41f1eb9c644c",
   "metadata": {},
   "outputs": [],
   "source": [
    "for index, row in newDf.iterrows():\n",
    "    cursor.execute(\"INSERT INTO FactSaa values(?,?,?,?,?,?,?,?,?)\",\n",
    "                   float(row['sademaara']),\n",
    "                   row['sateen_intensiteetti'],\n",
    "                   row['lumen_syvyys'],\n",
    "                   row['ilman_lampotila'],\n",
    "                   row['nakyvyys'],\n",
    "                   row['tuulen_nopeus'],\n",
    "                   row['pvm'],\n",
    "                   row['klo'],\n",
    "                   row['sijainti_id']\n",
    "                   )\n",
    "    \n",
    "cnxn.commit()\n"
   ]
  },
  {
   "cell_type": "code",
   "execution_count": 46,
   "id": "25431cfd-53db-45a1-b34e-9691b8337657",
   "metadata": {},
   "outputs": [],
   "source": [
    "cursor.close()\n",
    "cnxn.close()"
   ]
  },
  {
   "cell_type": "code",
   "execution_count": null,
   "id": "0deaa7a2-49e0-4792-ae87-4c5453982409",
   "metadata": {},
   "outputs": [],
   "source": []
  }
 ],
 "metadata": {
  "kernelspec": {
   "display_name": "Python 3 (ipykernel)",
   "language": "python",
   "name": "python3"
  },
  "language_info": {
   "codemirror_mode": {
    "name": "ipython",
    "version": 3
   },
   "file_extension": ".py",
   "mimetype": "text/x-python",
   "name": "python",
   "nbconvert_exporter": "python",
   "pygments_lexer": "ipython3",
   "version": "3.9.13"
  }
 },
 "nbformat": 4,
 "nbformat_minor": 5
}
